{
 "cells": [
  {
   "attachments": {},
   "cell_type": "markdown",
   "metadata": {},
   "source": [
    "## Simulating encounters\n",
    "\n",
    "If this is your first time using a notebook, please ensure you have [Python installed](https://www.python.org/downloads/) and you have installed the additional dependencies with the following command: `pip install -r ./automation/requirements.txt`\n",
    "\n",
    "First, we'll navigate to the repo's root:"
   ]
  },
  {
   "cell_type": "code",
   "execution_count": 2,
   "metadata": {},
   "outputs": [],
   "source": [
    "import os\n",
    "\n",
    "if os.path.basename(os.getcwd()) != \"TheGame\":\n",
    "    os.chdir(\"..\")"
   ]
  },
  {
   "attachments": {},
   "cell_type": "markdown",
   "metadata": {},
   "source": [
    "Next, import what you need:"
   ]
  },
  {
   "cell_type": "code",
   "execution_count": 3,
   "metadata": {},
   "outputs": [],
   "source": [
    "import copy\n",
    "from automation.templates import Bestiary\n",
    "from automation.simulator import Deck, Encounter"
   ]
  },
  {
   "attachments": {},
   "cell_type": "markdown",
   "metadata": {},
   "source": [
    "Use the Bestiary to provide dictionaries for each of the combatants. We can use emojis to represent them in the combat output. The Name value will be shown in the log.\n",
    "\n",
    "Note that files with SAMPLE in the name are designed to workshop ideas and test edge cases, not be included in the game."
   ]
  },
  {
   "cell_type": "code",
   "execution_count": 4,
   "metadata": {},
   "outputs": [],
   "source": [
    "b = Bestiary(input_files=\"06_Bestiary_SAMPLE.yaml\").raw_data\n",
    "c1 = b[\"Clubs1\"]\n",
    "c1.update(dict(Name=\"💀\", id=\"A\"))\n",
    "c2 = copy.copy(b[\"Clubs1\"])\n",
    "c2.update(dict(Name=\"👽\", id=\"B\"))\n",
    "s = b[\"Spider Queen\"]\n",
    "s.update(dict(Name=\"🎇\", id=\"C\"))"
   ]
  },
  {
   "attachments": {},
   "cell_type": "markdown",
   "metadata": {},
   "source": [
    "Initialize the encounter. We can see who is involved and resource information by looking at the encounter's `PCs`, `enemies`, or `turn_order` properties."
   ]
  },
  {
   "cell_type": "code",
   "execution_count": 5,
   "metadata": {},
   "outputs": [
    {
     "data": {
      "text/plain": [
       "[💀\n",
       " TC       : ♠️ 9 | pc.HP : 7/7\n",
       " Hand     :  02 | pc.PP : 2/2\n",
       " Deck     :  51 | pc.AP : 2/2\n",
       " Discards :  01 | RestC : 7/7,\n",
       " 👽\n",
       " TC       : ♠️ 8 | pc.HP : 7/7\n",
       " Hand     :  02 | pc.PP : 2/2\n",
       " Deck     :  51 | pc.AP : 2/2\n",
       " Discards :  01 | RestC : 7/7,\n",
       " 🎇\n",
       " TC       : ♥️ 4 | pc.HP : 8/8\n",
       " Hand     :  02 | pc.PP : 6/6\n",
       " Deck     :  51 | pc.AP : 2/2\n",
       " Discards :  01 | RestC : 8/8]"
      ]
     },
     "execution_count": 5,
     "metadata": {},
     "output_type": "execute_result"
    }
   ],
   "source": [
    "e = Encounter(PCs=[c1, c2], Enemies=[s])\n",
    "e.turn_order"
   ]
  },
  {
   "attachments": {},
   "cell_type": "markdown",
   "metadata": {},
   "source": [
    "Next, we can simulate a couple rounds of combat. Here, each participant will choose a Power available to them (if sufficient PP) and apply it to an enemy at random. This does not yet cover buffing powers (e.g., Shield, Lend Aid) or mind control status effects (i.e., Charmed, Enthralled)."
   ]
  },
  {
   "cell_type": "code",
   "execution_count": 6,
   "metadata": {},
   "outputs": [
    {
     "name": "stderr",
     "output_type": "stream",
     "text": [
      "[40:02][INFO]: 💀 used 0/2 PP with Attack, Dual-Wield\n",
      "[40:02][INFO]: 💀 used 0/2 PP with Attack, Weapon\n",
      "[40:02][INFO]: 💀 wounded 🎇 by 1: AP 1/2, HP 8/8\n",
      "[40:02][INFO]: 👽 used 0/2 PP with Drown\n",
      "[40:02][INFO]: 🎇 is Suffocating: 1\n",
      "[40:02][INFO]: 👽 used 1/2 PP with Attack, Charge\n",
      "[40:02][INFO]: 🎇 used 1/6 PP with Attack, Mystic Entangle\n",
      "[40:02][INFO]: 👽 resisted Entangled\n",
      "[40:02][INFO]: 🎇 used 0/5 PP with Sear\n",
      "[40:02][INFO]: 👽 is Burned: 1\n",
      "[40:02][INFO]: 🎇 shakes off Suffocating\n",
      "[40:02][INFO]: 💀 used 1/2 PP with Attack, Charge\n",
      "[40:02][INFO]: 💀 wounded 🎇 by 2: AP 0/2, HP 7/8\n",
      "[40:02][INFO]: 💀 used 0/1 PP with Attack, Dual-Wield\n",
      "[40:02][INFO]: 👽 used 1/1 PP with Attack, Charge\n",
      "[40:02][INFO]: 👽 wounded 🎇 by 2: AP 0/2, HP 5/8\n",
      "[40:02][INFO]: 👽 remains Burned\n",
      "[40:02][INFO]: 🎇 used 0/5 PP with Sear\n",
      "[40:02][INFO]: 💀 is Burned: 1\n",
      "[40:02][INFO]: 🎇 used 1/5 PP with Attack, Mystic Entangle\n",
      "[40:02][INFO]: 💀 resisted Entangled\n",
      "[40:02][INFO]: 🎇 wounded 💀 by 1: AP 1/2, HP 7/7\n",
      "[40:02][INFO]: 💀 remains Burned\n",
      "[40:02][INFO]: 💀 used 1/1 PP with Attack, Charge\n",
      "[40:02][INFO]: 👽 remains Burned\n",
      "[40:02][INFO]: 👽 used 0/0 PP with Attack, Weapon\n",
      "[40:02][INFO]: 🎇 used 0/4 PP with Attack, Mystic\n",
      "[40:02][INFO]: 🎇 used 0/4 PP with Sear\n",
      "[40:02][INFO]: 👽 is Burned: 2\n"
     ]
    }
   ],
   "source": [
    "e.sim_round(3)"
   ]
  },
  {
   "cell_type": "markdown",
   "metadata": {},
   "source": [
    "We can even simulate epic events."
   ]
  },
  {
   "cell_type": "code",
   "execution_count": 7,
   "metadata": {},
   "outputs": [
    {
     "name": "stderr",
     "output_type": "stream",
     "text": [
      "[40:02][INFO]: Party 1, GM 0 | 👽 Suited Hit\n",
      "[40:02][INFO]: Party 2, GM 0 | 👽 Major Success\n",
      "[40:02][INFO]: Party 3, GM 0 | 👽 Major Success\n",
      "[40:02][INFO]: Party wins after 18 total cards drawn\n"
     ]
    }
   ],
   "source": [
    "e.sim_epic_event(successes_needed=3)"
   ]
  },
  {
   "attachments": {},
   "cell_type": "markdown",
   "metadata": {},
   "source": [
    "Let's see how everyone is doing."
   ]
  },
  {
   "cell_type": "code",
   "execution_count": 8,
   "metadata": {},
   "outputs": [
    {
     "data": {
      "text/plain": [
       "[💀\n",
       " TC       : ♠️ 9 | pc.HP : 5/7\n",
       " Hand     :  03 | pc.PP : 0/2\n",
       " Deck     :  33 | pc.AP : 1/2\n",
       " Discards :  18 | RestC : 7/7,\n",
       " 👽\n",
       " TC       : ♠️ 8 | pc.HP : 3/7\n",
       " Hand     :  03 | pc.PP : 0/2\n",
       " Deck     :  37 | pc.AP : 2/2\n",
       " Discards :  14 | RestC : 7/7,\n",
       " 🎇\n",
       " TC       : ♥️ 4 | pc.HP : 5/8\n",
       " Hand     :  04 | pc.PP : 4/6\n",
       " Deck     :  46 | pc.AP : 0/2\n",
       " Discards :  04 | RestC : 8/8]"
      ]
     },
     "execution_count": 8,
     "metadata": {},
     "output_type": "execute_result"
    }
   ],
   "source": [
    "e.turn_order"
   ]
  },
  {
   "cell_type": "markdown",
   "metadata": {},
   "source": [
    "We can give some or all participants a rest."
   ]
  },
  {
   "cell_type": "code",
   "execution_count": 9,
   "metadata": {},
   "outputs": [
    {
     "name": "stderr",
     "output_type": "stream",
     "text": [
      "[40:02][INFO]: 💀 recovered 5 HP/PP/AP during Quick Rest\n",
      "[40:02][INFO]: 👽 recovered 6 HP/PP/AP during Quick Rest\n",
      "[40:02][INFO]: 🎇 recovered 7 HP/PP/AP during Quick Rest\n"
     ]
    }
   ],
   "source": [
    "e.sim_quick_rest(participants=e.PCs)  # If no participants specified, all"
   ]
  },
  {
   "cell_type": "code",
   "execution_count": 10,
   "metadata": {},
   "outputs": [
    {
     "data": {
      "text/plain": [
       "[💀\n",
       " TC       : ♠️ 5 | pc.HP : 7/7\n",
       " Hand     :  03 | pc.PP : 2/2\n",
       " Deck     :  41 | pc.AP : 2/2\n",
       " Discards :  10 | RestC : 5/7,\n",
       " 👽\n",
       " TC       : ♦️ 3 | pc.HP : 7/7\n",
       " Hand     :  05 | pc.PP : 2/2\n",
       " Deck     :  43 | pc.AP : 2/2\n",
       " Discards :  06 | RestC : 2/7,\n",
       " 🎇\n",
       " TC       : ♠️ 5 | pc.HP : 8/8\n",
       " Hand     :  04 | pc.PP : 6/6\n",
       " Deck     :  49 | pc.AP : 2/2\n",
       " Discards :  01 | RestC : 5/8]"
      ]
     },
     "execution_count": 10,
     "metadata": {},
     "output_type": "execute_result"
    }
   ],
   "source": [
    "e.turn_order"
   ]
  },
  {
   "attachments": {},
   "cell_type": "markdown",
   "metadata": {},
   "source": [
    "Or a full rest."
   ]
  },
  {
   "cell_type": "code",
   "execution_count": 11,
   "metadata": {},
   "outputs": [],
   "source": [
    "e.sim_full_rest()"
   ]
  },
  {
   "cell_type": "code",
   "execution_count": 12,
   "metadata": {},
   "outputs": [
    {
     "data": {
      "text/plain": [
       "[💀\n",
       " TC       : ♠️ 3 | pc.HP : 7/7\n",
       " Hand     :  03 | pc.PP : 2/2\n",
       " Deck     :  50 | pc.AP : 2/2\n",
       " Discards :  01 | RestC : 7/7,\n",
       " 👽\n",
       " TC       : ♦️ 2 | pc.HP : 7/7\n",
       " Hand     :  05 | pc.PP : 2/2\n",
       " Deck     :  48 | pc.AP : 2/2\n",
       " Discards :  01 | RestC : 7/7,\n",
       " 🎇\n",
       " TC       : ♦️ 2 | pc.HP : 8/8\n",
       " Hand     :  04 | pc.PP : 6/6\n",
       " Deck     :  49 | pc.AP : 2/2\n",
       " Discards :  01 | RestC : 8/8]"
      ]
     },
     "execution_count": 12,
     "metadata": {},
     "output_type": "execute_result"
    }
   ],
   "source": [
    "e.turn_order"
   ]
  },
  {
   "cell_type": "code",
   "execution_count": null,
   "metadata": {},
   "outputs": [],
   "source": []
  }
 ],
 "metadata": {
  "kernelspec": {
   "display_name": "doa",
   "language": "python",
   "name": "python3"
  },
  "language_info": {
   "codemirror_mode": {
    "name": "ipython",
    "version": 3
   },
   "file_extension": ".py",
   "mimetype": "text/x-python",
   "name": "python",
   "nbconvert_exporter": "python",
   "pygments_lexer": "ipython3",
   "version": "3.9.15 | packaged by conda-forge | (main, Nov 22 2022, 08:48:25) \n[Clang 14.0.6 ]"
  },
  "orig_nbformat": 4,
  "vscode": {
   "interpreter": {
    "hash": "6b646fa577b0af43f34eae6415ef36aca8df47e0f93409f9d4a964f073b55a67"
   }
  }
 },
 "nbformat": 4,
 "nbformat_minor": 2
}
