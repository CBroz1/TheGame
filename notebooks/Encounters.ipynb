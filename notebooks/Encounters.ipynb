{
 "cells": [
  {
   "attachments": {},
   "cell_type": "markdown",
   "metadata": {},
   "source": [
    "## Simulating encounters\n",
    "\n",
    "If this is your first time using a notebook, please ensure you have [Python installed](https://www.python.org/downloads/) and you have installed the additional dependencies with the following command: `pip install -r ./automation/requirements.txt`\n",
    "\n",
    "First, we'll navigate to the repo's root:\n"
   ]
  },
  {
   "cell_type": "code",
   "execution_count": 1,
   "metadata": {},
   "outputs": [],
   "source": [
    "import os\n",
    "\n",
    "if os.path.basename(os.getcwd()) != \"TheGame\":\n",
    "    os.chdir(\"..\")"
   ]
  },
  {
   "attachments": {},
   "cell_type": "markdown",
   "metadata": {},
   "source": [
    "Next, import what you need:\n"
   ]
  },
  {
   "cell_type": "code",
   "execution_count": 2,
   "metadata": {},
   "outputs": [],
   "source": [
    "import copy\n",
    "from automation.templates.bestiary import Bestiary\n",
    "from automation.simulator.deck import Deck\n",
    "from automation.simulator.encounter import Encounter"
   ]
  },
  {
   "attachments": {},
   "cell_type": "markdown",
   "metadata": {},
   "source": [
    "Use the Bestiary to provide dictionaries for each of the combatants. We can use emojis to represent them in the combat output. The Name value will be shown in the log.\n",
    "\n",
    "Note that files with SAMPLE in the name are designed to workshop ideas and test edge cases, not be included in the game.\n"
   ]
  },
  {
   "cell_type": "code",
   "execution_count": 3,
   "metadata": {},
   "outputs": [],
   "source": [
    "b = Bestiary(input_files=[\"06_Bestiary_SAMPLE.yaml\", \"07_PCs.yaml\"]).raw_data\n",
    "c1 = b[\"Clubs1\"]\n",
    "c1.update(dict(Name=\"💀\", id=\"A\"))\n",
    "c2 = copy.copy(b[\"Clubs1\"])\n",
    "c2.update(dict(Name=\"👽\", id=\"B\"))\n",
    "s = b[\"Spider Queen\"]\n",
    "s.update(dict(Name=\"🎇\", id=\"C\"))"
   ]
  },
  {
   "attachments": {},
   "cell_type": "markdown",
   "metadata": {},
   "source": [
    "Initialize the encounter. We can see who is involved and resource information by looking at the encounter's `PCs`, `enemies`, or `turn_order` properties.\n",
    "\n",
    "Note that this may differ from a real encounter because each participant has their own hand and deck. In a true encounter, a GM might manage many characters with the same deck.\n"
   ]
  },
  {
   "cell_type": "code",
   "execution_count": 4,
   "metadata": {},
   "outputs": [
    {
     "name": "stderr",
     "output_type": "stream",
     "text": [
      "[19:24][WARNING]: 💀 used 1 excess XP\n",
      "[19:24][WARNING]: 👽 used 1 excess XP\n"
     ]
    },
    {
     "data": {
      "text/plain": [
       "[🎇\n",
       " TC       :♥️ 2 | pc.HP : 11/11\n",
       " Hand     :  02 | pc.PP : 6/6\n",
       " Deck     :  51 | pc.AP : 1/1\n",
       " Discards :  01 | RestC : 11/11,\n",
       " 💀\n",
       " TC       :♥️ 5 | pc.HP : 6/6\n",
       " Hand     :  02 | pc.PP : 2/2\n",
       " Deck     :  51 | pc.AP : 2/2\n",
       " Discards :  01 | RestC : 6/6,\n",
       " 👽\n",
       " TC       :♦️ 3 | pc.HP : 6/6\n",
       " Hand     :  02 | pc.PP : 2/2\n",
       " Deck     :  51 | pc.AP : 2/2\n",
       " Discards :  01 | RestC : 6/6]"
      ]
     },
     "execution_count": 4,
     "metadata": {},
     "output_type": "execute_result"
    }
   ],
   "source": [
    "e = Encounter(PCs=[c1, c2], Enemies=[s])\n",
    "e.turn_order"
   ]
  },
  {
   "attachments": {},
   "cell_type": "markdown",
   "metadata": {},
   "source": [
    "Next, we can simulate a couple rounds of combat. Here, each participant will choose a Power available to them (if sufficient PP) and apply it to an enemy at random. This does not yet cover buffing powers (e.g., Shield, Lend Aid) or mind control status effects (i.e., Charmed, Enthralled).\n"
   ]
  },
  {
   "cell_type": "code",
   "execution_count": 5,
   "metadata": {},
   "outputs": [
    {
     "name": "stderr",
     "output_type": "stream",
     "text": [
      "[19:24][INFO]: 🎇 used 0/6 PP with Terrain Blink\n",
      "[19:24][INFO]: ['🎇 used Terrain Blink']\n",
      "[19:24][INFO]: 🎇 used 1/6 PP with Attack, Mystic Aura\n",
      "[19:24][INFO]: ['🎇 used Attack, Mystic Aura', '🎇 wounded 💀 by 1: AP 1/2, HP 6/6']\n",
      "[19:24][INFO]: 💀 used 0/2 PP with Attack, Weapon\n",
      "[19:24][INFO]: ['💀 used Attack, Weapon', '💀 wounded 🎇 by 1: AP 0/1, HP 11/11']\n",
      "[19:24][INFO]: 💀 used 1/2 PP with Shield, Self\n",
      "[19:24][INFO]: ['💀 used Shield, Self']\n",
      "[19:24][INFO]: 👽 used 0/2 PP with Attack, Vengeance\n",
      "[19:24][INFO]: ['👽 used Attack, Vengeance', '👽 wounded 🎇 by 1: AP 0/1, HP 10/11']\n",
      "[19:24][INFO]: 👽 used 1/2 PP with Shield, Self\n",
      "[19:24][INFO]: ['👽 used Shield, Self', '👽 wounded 🎇 by 1: AP 0/1, HP 9/11']\n",
      "[19:24][INFO]: 🎇 used 0/5 PP with Terrain Blink\n",
      "[19:24][INFO]: ['🎇 used Terrain Blink']\n",
      "[19:24][INFO]: 🎇 used 1/5 PP with Attack, Mystic Aura\n",
      "[19:24][INFO]: ['🎇 used Attack, Mystic Aura', '🎇 wounded 💀 by 1: AP 0/2, HP 6/6']\n",
      "[19:24][INFO]: 💀 used 1/1 PP with Shield, Self\n",
      "[19:24][INFO]: ['💀 used Shield, Self', '💀 wounded 🎇 by 1: AP 0/1, HP 8/11']\n",
      "[19:24][INFO]: 💀 used 0/0 PP with Attack, Weapon\n",
      "[19:24][INFO]: ['💀 used Attack, Weapon']\n",
      "[19:24][INFO]: 👽 used 1/1 PP with Shield, Self\n",
      "[19:24][INFO]: ['👽 used Shield, Self', '👽 wounded 🎇 by 1: AP 0/1, HP 7/11']\n",
      "[19:24][INFO]: 👽 used 0/0 PP with Attack, Vengeance\n",
      "[19:24][INFO]: ['👽 used Attack, Vengeance', '👽 wounded 🎇 by 1: AP 0/1, HP 6/11']\n",
      "[19:24][INFO]: 🎇 used 0/4 PP with Terrain Blink\n",
      "[19:24][INFO]: ['🎇 used Terrain Blink', '🎇 wounded 👽 by 2: AP 0/2, HP 6/6']\n",
      "[19:24][INFO]: 🎇 used 1/4 PP with Attack, Mystic Aura\n",
      "[19:24][INFO]: ['🎇 used Attack, Mystic Aura']\n",
      "[19:24][INFO]: 💀 no Minor choices\n",
      "[19:24][INFO]: 💀 used 0/0 PP with Attack, Vengeance\n",
      "[19:24][INFO]: ['💀 used Attack, Vengeance', '💀 wounded 🎇 by 1: AP 0/1, HP 5/11']\n",
      "[19:24][INFO]: 👽 shakes off Stunned\n",
      "[19:24][INFO]: 👽 used 0/0 PP with Attack, Vengeance\n",
      "[19:24][INFO]: ['👽 used Attack, Vengeance']\n",
      "[19:24][INFO]: 👽 no Minor choices\n"
     ]
    }
   ],
   "source": [
    "e.sim_round(3)"
   ]
  },
  {
   "attachments": {},
   "cell_type": "markdown",
   "metadata": {},
   "source": [
    "We can even simulate epic events.\n"
   ]
  },
  {
   "cell_type": "code",
   "execution_count": 7,
   "metadata": {},
   "outputs": [
    {
     "name": "stderr",
     "output_type": "stream",
     "text": [
      "[19:24][INFO]: Party 1, GM 0 | 💀 Suited Hit\n",
      "INFO:automation:Party 1, GM 0 | 💀 Suited Hit\n",
      "[19:24][INFO]: Party 2, GM 0 | 💀 Major Success\n",
      "INFO:automation:Party 2, GM 0 | 💀 Major Success\n",
      "[19:24][INFO]: Party 3, GM 0 | 👽 Suited Hit\n",
      "INFO:automation:Party 3, GM 0 | 👽 Suited Hit\n",
      "[19:24][INFO]: Party wins after 12 total cards drawn\n",
      "INFO:automation:Party wins after 12 total cards drawn\n"
     ]
    }
   ],
   "source": [
    "e.sim_epic_event(successes_needed=3)"
   ]
  },
  {
   "attachments": {},
   "cell_type": "markdown",
   "metadata": {},
   "source": [
    "Let's see how everyone is doing.\n"
   ]
  },
  {
   "cell_type": "code",
   "execution_count": 8,
   "metadata": {},
   "outputs": [
    {
     "data": {
      "text/plain": [
       "[🎇\n",
       " TC       :♥️ 2 | pc.HP : 5/11\n",
       " Hand     :  03 | pc.PP : 3/6\n",
       " Deck     :  45 | pc.AP : 0/1\n",
       " Discards :  06 | RestC : 11/11,\n",
       " 💀\n",
       " TC       :♥️ 5 | pc.HP : 6/6\n",
       " Hand     :  03 | pc.PP : 0/2\n",
       " Deck     :  42 | pc.AP : 0/2\n",
       " Discards :  09 | RestC : 6/6,\n",
       " 👽\n",
       " TC       :♦️ 3 | pc.HP : 6/6\n",
       " Hand     :  03 | pc.PP : 0/2\n",
       " Deck     :  41 | pc.AP : 0/2\n",
       " Discards :  10 | RestC : 6/6]"
      ]
     },
     "execution_count": 8,
     "metadata": {},
     "output_type": "execute_result"
    }
   ],
   "source": [
    "e.turn_order"
   ]
  },
  {
   "attachments": {},
   "cell_type": "markdown",
   "metadata": {},
   "source": [
    "If you're interested in draining a specific character's resources, we can index them directly and subtract values.\n"
   ]
  },
  {
   "cell_type": "code",
   "execution_count": 9,
   "metadata": {},
   "outputs": [
    {
     "data": {
      "text/plain": [
       "🎇\n",
       "TC       :♥️ 2 | pc.HP : 1/11\n",
       "Hand     :  03 | pc.PP : 3/6\n",
       "Deck     :  45 | pc.AP : 0/1\n",
       "Discards :  06 | RestC : 11/11"
      ]
     },
     "execution_count": 9,
     "metadata": {},
     "output_type": "execute_result"
    }
   ],
   "source": [
    "spider_queen = e.enemies[0]\n",
    "spider_queen.HP = 1\n",
    "spider_queen"
   ]
  },
  {
   "attachments": {},
   "cell_type": "markdown",
   "metadata": {},
   "source": [
    "The only thing that can't be set directly is the deck. This has to be managed by either drawing, using a fate card, or shuffling.\n"
   ]
  },
  {
   "cell_type": "code",
   "execution_count": 10,
   "metadata": {},
   "outputs": [
    {
     "data": {
      "text/plain": [
       "♠️ Q"
      ]
     },
     "execution_count": 10,
     "metadata": {},
     "output_type": "execute_result"
    }
   ],
   "source": [
    "spider_queen.draw()"
   ]
  },
  {
   "cell_type": "code",
   "execution_count": 11,
   "metadata": {},
   "outputs": [
    {
     "name": "stderr",
     "output_type": "stream",
     "text": [
      "[19:25][INFO]: Exchanged Fate Card: ♠️ A\n",
      "INFO:automation:Exchanged Fate Card: ♠️ A\n"
     ]
    }
   ],
   "source": [
    "spider_queen.exchange_fate()"
   ]
  },
  {
   "cell_type": "code",
   "execution_count": 12,
   "metadata": {},
   "outputs": [
    {
     "data": {
      "text/plain": [
       "🎇\n",
       "TC       :♥️ Q | pc.HP : 1/11\n",
       "Hand     :  02 | pc.PP : 3/6\n",
       "Deck     :  45 | pc.AP : 0/1\n",
       "Discards :  07 | RestC : 11/11"
      ]
     },
     "execution_count": 12,
     "metadata": {},
     "output_type": "execute_result"
    }
   ],
   "source": [
    "spider_queen.shuffle(2)\n",
    "spider_queen"
   ]
  },
  {
   "attachments": {},
   "cell_type": "markdown",
   "metadata": {},
   "source": [
    "We can give some or all participants a rest.\n"
   ]
  },
  {
   "cell_type": "code",
   "execution_count": 13,
   "metadata": {},
   "outputs": [
    {
     "name": "stderr",
     "output_type": "stream",
     "text": [
      "[19:25][INFO]: 🎇 recovered 15 HP/PP/AP during Quick Rest\n",
      "INFO:automation:🎇 recovered 15 HP/PP/AP during Quick Rest\n",
      "[19:25][INFO]: 💀 recovered 4 HP/PP/AP during Quick Rest\n",
      "INFO:automation:💀 recovered 4 HP/PP/AP during Quick Rest\n",
      "[19:25][INFO]: 👽 recovered 4 HP/PP/AP during Quick Rest\n",
      "INFO:automation:👽 recovered 4 HP/PP/AP during Quick Rest\n"
     ]
    }
   ],
   "source": [
    "e.sim_quick_rest(participants=e.PCs)  # If no participants specified, all"
   ]
  },
  {
   "cell_type": "code",
   "execution_count": 14,
   "metadata": {},
   "outputs": [
    {
     "data": {
      "text/plain": [
       "[🎇\n",
       " TC       :♠️ K | pc.HP : 12/11\n",
       " Hand     :  03 | pc.PP : 6/6\n",
       " Deck     :  47 | pc.AP : 1/1\n",
       " Discards :  04 | RestC : 3/11,\n",
       " 💀\n",
       " TC       :♥️ 5 | pc.HP : 6/6\n",
       " Hand     :  03 | pc.PP : 2/2\n",
       " Deck     :  50 | pc.AP : 2/2\n",
       " Discards :  01 | RestC : 5/6,\n",
       " 👽\n",
       " TC       :♠️ T | pc.HP : 6/6\n",
       " Hand     :  03 | pc.PP : 2/2\n",
       " Deck     :  50 | pc.AP : 2/2\n",
       " Discards :  01 | RestC : 5/6]"
      ]
     },
     "execution_count": 14,
     "metadata": {},
     "output_type": "execute_result"
    }
   ],
   "source": [
    "e.turn_order"
   ]
  },
  {
   "attachments": {},
   "cell_type": "markdown",
   "metadata": {},
   "source": [
    "Or a full rest.\n"
   ]
  },
  {
   "cell_type": "code",
   "execution_count": 15,
   "metadata": {},
   "outputs": [],
   "source": [
    "e.sim_full_rest()"
   ]
  },
  {
   "cell_type": "code",
   "execution_count": 16,
   "metadata": {},
   "outputs": [
    {
     "data": {
      "text/plain": [
       "[🎇\n",
       " TC       :♠️ 6 | pc.HP : 11/11\n",
       " Hand     :  03 | pc.PP : 6/6\n",
       " Deck     :  50 | pc.AP : 1/1\n",
       " Discards :  01 | RestC : 11/11,\n",
       " 💀\n",
       " TC       :♦️ 6 | pc.HP : 6/6\n",
       " Hand     :  03 | pc.PP : 2/2\n",
       " Deck     :  50 | pc.AP : 2/2\n",
       " Discards :  01 | RestC : 6/6,\n",
       " 👽\n",
       " TC       :♦️ A | pc.HP : 6/6\n",
       " Hand     :  04 | pc.PP : 2/2\n",
       " Deck     :  50 | pc.AP : 2/2\n",
       " Discards :  00 | RestC : 6/6]"
      ]
     },
     "execution_count": 16,
     "metadata": {},
     "output_type": "execute_result"
    }
   ],
   "source": [
    "e.turn_order"
   ]
  },
  {
   "attachments": {},
   "cell_type": "markdown",
   "metadata": {},
   "source": [
    "## Logging\n",
    "\n",
    "Much of the information we're seeing above in the `[TIME][INFO]` format is as a result of the [logger](https://www.loggly.com/ultimate-guide/python-logging-basics/) that keeps track of this information. We can adjust what we see by adjusting the log level.\n"
   ]
  },
  {
   "cell_type": "code",
   "execution_count": 17,
   "metadata": {},
   "outputs": [
    {
     "name": "stderr",
     "output_type": "stream",
     "text": [
      "[19:25][DEBUG]: Drew [♠️ A, ♠️ T] vs ♠️ 6 with TR 2 at Lower Hand 2: Color Miss\n",
      "DEBUG:automation:Drew [♠️ A, ♠️ T] vs ♠️ 6 with TR 2 at Lower Hand 2: Color Miss\n",
      "[19:25][INFO]: 🎇 used 1/6 PP with Attack, Mystic Aura\n",
      "INFO:automation:🎇 used 1/6 PP with Attack, Mystic Aura\n",
      "[19:25][DEBUG]: Drew [♠️ J] vs ♦️ 6 with TR 2: Miss\n",
      "DEBUG:automation:Drew [♠️ J] vs ♦️ 6 with TR 2: Miss\n",
      "[19:25][INFO]: ['🎇 used Attack, Mystic Aura']\n",
      "INFO:automation:['🎇 used Attack, Mystic Aura']\n",
      "[19:25][INFO]: 🎇 used 0/5 PP with Terrain Blink\n",
      "INFO:automation:🎇 used 0/5 PP with Terrain Blink\n",
      "[19:25][DEBUG]: Drew [♦️ 4] vs ♦️ 6 with TR 2: Suited Hit\n",
      "DEBUG:automation:Drew [♦️ 4] vs ♦️ 6 with TR 2: Suited Hit\n",
      "[19:25][INFO]: ['🎇 used Terrain Blink', '🎇 wounded 💀 by 1: AP 1/2, HP 6/6']\n",
      "INFO:automation:['🎇 used Terrain Blink', '🎇 wounded 💀 by 1: AP 1/2, HP 6/6']\n",
      "[19:25][INFO]: 💀 used 1/2 PP with Shield, Self\n",
      "INFO:automation:💀 used 1/2 PP with Shield, Self\n",
      "[19:25][DEBUG]: Drew [♥️ K] vs ♠️ 6 with TR 4: Miss\n",
      "DEBUG:automation:Drew [♥️ K] vs ♠️ 6 with TR 4: Miss\n",
      "[19:25][INFO]: ['💀 used Shield, Self']\n",
      "INFO:automation:['💀 used Shield, Self']\n",
      "[19:25][INFO]: 💀 used 0/1 PP with Attack, Weapon\n",
      "INFO:automation:💀 used 0/1 PP with Attack, Weapon\n",
      "[19:25][DEBUG]: Drew [♦️ 2] vs ♠️ 6 with TR 4: Hit\n",
      "DEBUG:automation:Drew [♦️ 2] vs ♠️ 6 with TR 4: Hit\n",
      "[19:25][INFO]: ['💀 used Attack, Weapon', '💀 wounded 🎇 by 1: AP 0/1, HP 11/11']\n",
      "INFO:automation:['💀 used Attack, Weapon', '💀 wounded 🎇 by 1: AP 0/1, HP 11/11']\n",
      "[19:25][INFO]: 👽 used 1/2 PP with Shield, Self\n",
      "INFO:automation:👽 used 1/2 PP with Shield, Self\n",
      "[19:25][DEBUG]: Drew [♥️ 3] vs ♠️ 6 with TR 4: Hit\n",
      "DEBUG:automation:Drew [♥️ 3] vs ♠️ 6 with TR 4: Hit\n",
      "[19:25][INFO]: ['👽 used Shield, Self', '👽 wounded 🎇 by 1: AP 0/1, HP 10/11']\n",
      "INFO:automation:['👽 used Shield, Self', '👽 wounded 🎇 by 1: AP 0/1, HP 10/11']\n",
      "[19:25][INFO]: 👽 used 0/1 PP with Attack, Weapon\n",
      "INFO:automation:👽 used 0/1 PP with Attack, Weapon\n",
      "[19:25][DEBUG]: Drew [♠️ T] vs ♠️ 6 with TR 4: Color Hit\n",
      "DEBUG:automation:Drew [♠️ T] vs ♠️ 6 with TR 4: Color Hit\n",
      "[19:25][INFO]: ['👽 used Attack, Weapon', '👽 wounded 🎇 by 1: AP 0/1, HP 9/11']\n",
      "INFO:automation:['👽 used Attack, Weapon', '👽 wounded 🎇 by 1: AP 0/1, HP 9/11']\n"
     ]
    }
   ],
   "source": [
    "from automation.utils import logger\n",
    "\n",
    "logger.setLevel(\"DEBUG\")  # Most information\n",
    "# logger.setLevel('INFO') # Standard information\n",
    "# logger.setLevel('WARNING') # Only problems\n",
    "# logger.setLevel('CRITICAL') # No information\n",
    "spider_queen.save(DR=3, attrib=[\"AGL\", \"STR\"], upper_lower=\"lower\", draw_n=2)\n",
    "e.sim_round()"
   ]
  },
  {
   "attachments": {},
   "cell_type": "markdown",
   "metadata": {},
   "source": [
    "For a more detailed record of checks, saves, and rests, turn on CSV logging. This will save logs of who performed which check/save or rest and some associated values.\n"
   ]
  },
  {
   "cell_type": "code",
   "execution_count": 18,
   "metadata": {},
   "outputs": [
    {
     "name": "stderr",
     "output_type": "stream",
     "text": [
      "[19:25][INFO]: 🎇 used 0/5 PP with Terrain Blink\n",
      "INFO:automation:🎇 used 0/5 PP with Terrain Blink\n",
      "[19:25][DEBUG]: Drew [♦️ J] vs ♦️ A with TR 2: Suited Miss\n",
      "DEBUG:automation:Drew [♦️ J] vs ♦️ A with TR 2: Suited Miss\n",
      "[19:25][INFO]: ['🎇 used Terrain Blink']\n",
      "INFO:automation:['🎇 used Terrain Blink']\n",
      "[19:25][INFO]: 🎇 used 1/5 PP with Attack, Mystic Aura\n",
      "INFO:automation:🎇 used 1/5 PP with Attack, Mystic Aura\n",
      "[19:25][DEBUG]: Drew [♥️ 8] vs ♦️ 6 with TR 2: Color Hit\n",
      "DEBUG:automation:Drew [♥️ 8] vs ♦️ 6 with TR 2: Color Hit\n",
      "[19:25][INFO]: ['🎇 used Attack, Mystic Aura', '🎇 wounded 💀 by 1: AP 0/2, HP 6/6']\n",
      "INFO:automation:['🎇 used Attack, Mystic Aura', '🎇 wounded 💀 by 1: AP 0/2, HP 6/6']\n",
      "[19:25][INFO]: 💀 used 0/1 PP with Attack, Vengeance\n",
      "INFO:automation:💀 used 0/1 PP with Attack, Vengeance\n",
      "[19:25][DEBUG]: Drew [♠️ Q] vs ♠️ 6 with TR 4: Suited Miss\n",
      "DEBUG:automation:Drew [♠️ Q] vs ♠️ 6 with TR 4: Suited Miss\n",
      "[19:25][INFO]: ['💀 used Attack, Vengeance']\n",
      "INFO:automation:['💀 used Attack, Vengeance']\n",
      "[19:25][INFO]: 💀 used 1/1 PP with Shield, Self\n",
      "INFO:automation:💀 used 1/1 PP with Shield, Self\n",
      "[19:25][DEBUG]: Drew [♠️ 8] vs ♠️ 6 with TR 4: Suited Hit\n",
      "DEBUG:automation:Drew [♠️ 8] vs ♠️ 6 with TR 4: Suited Hit\n",
      "[19:25][INFO]: ['💀 used Shield, Self', '💀 wounded 🎇 by 1: AP 0/1, HP 8/11']\n",
      "INFO:automation:['💀 used Shield, Self', '💀 wounded 🎇 by 1: AP 0/1, HP 8/11']\n",
      "[19:25][INFO]: 👽 used 0/1 PP with Attack, Weapon\n",
      "INFO:automation:👽 used 0/1 PP with Attack, Weapon\n",
      "[19:25][DEBUG]: Drew [♠️ Q] vs ♠️ 6 with TR 4: Suited Miss\n",
      "DEBUG:automation:Drew [♠️ Q] vs ♠️ 6 with TR 4: Suited Miss\n",
      "[19:25][INFO]: ['👽 used Attack, Weapon']\n",
      "INFO:automation:['👽 used Attack, Weapon']\n",
      "[19:25][INFO]: 👽 used 1/1 PP with Shield, Self\n",
      "INFO:automation:👽 used 1/1 PP with Shield, Self\n",
      "[19:25][DEBUG]: Drew [♠️ 2] vs ♠️ 6 with TR 4: Suited Hit\n",
      "DEBUG:automation:Drew [♠️ 2] vs ♠️ 6 with TR 4: Suited Hit\n",
      "[19:25][INFO]: ['👽 used Shield, Self', '👽 wounded 🎇 by 1: AP 0/1, HP 7/11']\n",
      "INFO:automation:['👽 used Shield, Self', '👽 wounded 🎇 by 1: AP 0/1, HP 7/11']\n",
      "[19:25][DEBUG]: Drew [♦️ T] vs ♠️ 6 with TR 3: Miss\n",
      "DEBUG:automation:Drew [♦️ T] vs ♠️ 6 with TR 3: Miss\n",
      "[19:25][DEBUG]: Recovering 1 with cards\n",
      "DEBUG:automation:Recovering 1 with cards\n",
      "[19:25][DEBUG]:    1 HP to 8\n",
      "DEBUG:automation:   1 HP to 8\n",
      "[19:25][DEBUG]: Drew [♠️ 2] vs ♠️ 6 with TR 3: Suited Miss\n",
      "DEBUG:automation:Drew [♠️ 2] vs ♠️ 6 with TR 3: Suited Miss\n",
      "[19:25][DEBUG]: Recovering 1 with cards\n",
      "DEBUG:automation:Recovering 1 with cards\n",
      "[19:25][DEBUG]:    1 HP to 9\n",
      "DEBUG:automation:   1 HP to 9\n",
      "[19:25][DEBUG]: Drew [♥️ K] vs ♠️ 6 with TR 3: Miss\n",
      "DEBUG:automation:Drew [♥️ K] vs ♠️ 6 with TR 3: Miss\n",
      "[19:25][DEBUG]: Recovering 1 with cards\n",
      "DEBUG:automation:Recovering 1 with cards\n",
      "[19:25][DEBUG]:    1 HP to 10\n",
      "DEBUG:automation:   1 HP to 10\n",
      "[19:25][DEBUG]: Drew [♠️ 4] vs ♠️ 6 with TR 3: Suited Hit\n",
      "DEBUG:automation:Drew [♠️ 4] vs ♠️ 6 with TR 3: Suited Hit\n",
      "[19:25][DEBUG]: Recovering 2 with cards\n",
      "DEBUG:automation:Recovering 2 with cards\n",
      "[19:25][DEBUG]:    1 PP to 5\n",
      "DEBUG:automation:   1 PP to 5\n",
      "[19:25][DEBUG]:    1 HP to 11\n",
      "DEBUG:automation:   1 HP to 11\n",
      "[19:25][DEBUG]: Drew [♥️ A] vs ♠️ 6 with TR 3: Miss\n",
      "DEBUG:automation:Drew [♥️ A] vs ♠️ 6 with TR 3: Miss\n",
      "[19:25][DEBUG]: Recovering 1 with cards\n",
      "DEBUG:automation:Recovering 1 with cards\n",
      "[19:25][DEBUG]:    1 PP to 6\n",
      "DEBUG:automation:   1 PP to 6\n",
      "[19:25][DEBUG]: Drew [♦️ K] vs ♠️ 6 with TR 8: Hit\n",
      "DEBUG:automation:Drew [♦️ K] vs ♠️ 6 with TR 8: Hit\n",
      "[19:25][DEBUG]: Recovering 1 AP to 1\n",
      "DEBUG:automation:Recovering 1 AP to 1\n",
      "[19:25][INFO]: 🎇 recovered 7 HP/PP/AP during Quick Rest\n",
      "INFO:automation:🎇 recovered 7 HP/PP/AP during Quick Rest\n",
      "[19:25][DEBUG]: Drew [♥️ 8] vs ♦️ 6 with TR 3: Color Hit\n",
      "DEBUG:automation:Drew [♥️ 8] vs ♦️ 6 with TR 3: Color Hit\n",
      "[19:25][DEBUG]: Recovering 2 with cards\n",
      "DEBUG:automation:Recovering 2 with cards\n",
      "[19:25][DEBUG]:    1 PP to 1\n",
      "DEBUG:automation:   1 PP to 1\n",
      "[19:25][DEBUG]:    1 PP to 2\n",
      "DEBUG:automation:   1 PP to 2\n",
      "[19:25][DEBUG]: Drew [♠️ 4] vs ♦️ 6 with TR 5: Hit\n",
      "DEBUG:automation:Drew [♠️ 4] vs ♦️ 6 with TR 5: Hit\n",
      "[19:25][DEBUG]: Recovering 2 AP to 2\n",
      "DEBUG:automation:Recovering 2 AP to 2\n",
      "[19:25][INFO]: 💀 recovered 4 HP/PP/AP during Quick Rest\n",
      "INFO:automation:💀 recovered 4 HP/PP/AP during Quick Rest\n",
      "[19:25][DEBUG]: Drew [♠️ J] vs ♦️ A with TR 3: Hit\n",
      "DEBUG:automation:Drew [♠️ J] vs ♦️ A with TR 3: Hit\n",
      "[19:25][DEBUG]: Recovering 2 with cards\n",
      "DEBUG:automation:Recovering 2 with cards\n",
      "[19:25][DEBUG]:    1 PP to 1\n",
      "DEBUG:automation:   1 PP to 1\n",
      "[19:25][DEBUG]:    1 PP to 2\n",
      "DEBUG:automation:   1 PP to 2\n",
      "[19:25][INFO]: 👽 recovered 2 HP/PP/AP during Quick Rest\n",
      "INFO:automation:👽 recovered 2 HP/PP/AP during Quick Rest\n"
     ]
    }
   ],
   "source": [
    "e.set_csv_logging(True)\n",
    "e.sim_round()\n",
    "e.sim_quick_rest()"
   ]
  },
  {
   "attachments": {},
   "cell_type": "markdown",
   "metadata": {},
   "source": [
    "The following uses system commands rather than Python to look at the output. To use this data more meaningfully, try loading the data with [pandas](https://pythonbasics.org/read-csv-with-pandas/).\n"
   ]
  },
  {
   "cell_type": "code",
   "execution_count": 19,
   "metadata": {},
   "outputs": [
    {
     "name": "stdout",
     "output_type": "stream",
     "text": [
      "date,id,check_save,result_int,result_str,DR,type,mod,upper_lower,draw_n\n",
      "04/15 08:19:24,C,check,4,Major Success,2,None,0,n,1\n",
      "04/15 08:19:24,C,check,-3,Miss,2,None,0,n,1\n",
      "04/15 08:19:24,A,check,3,Suited Hit,2,STR,2,n,1\n",
      "04/15 08:19:24,B,save,2,Color Hit,3,CON,0,n,1\n",
      "04/15 08:19:24,B,check,-3,Miss,2,STR,2,n,1\n",
      "04/15 08:19:24,A,check,1,Hit,3,None,0,n,1\n",
      "04/15 08:19:24,B,check,-3,Miss,3,None,0,n,1\n",
      "04/15 08:19:24,A,check,3,Suited Hit,3,None,0,n,1\n",
      "04/15 08:19:24,B,check,1,Hit,3,None,0,n,1\n"
     ]
    }
   ],
   "source": [
    "!head automation/_output/log_draws.csv"
   ]
  },
  {
   "cell_type": "code",
   "execution_count": 20,
   "metadata": {},
   "outputs": [
    {
     "name": "stdout",
     "output_type": "stream",
     "text": [
      "date,name,before_after,type,discards,hand,HP,AP,PP,RestCards\n",
      "01/22 09:16:38,👽,before,quick,15,3,5,0,1,7\n",
      "01/22 09:16:38,👽,after,quick,16,5,8,0,2,4\n",
      "01/22 09:16:38,💀,before,quick,16,5,7,1,0,7\n",
      "01/22 09:16:38,💀,after,quick,18,5,8,1,2,5\n",
      "01/22 09:16:38,🎇,before,quick,8,1,1,0,5,8\n",
      "01/22 09:16:38,🎇,after,quick,13,1,8,0,6,3\n",
      "01/22 09:16:38,👽,before,full,6,5,8,2,2,4\n",
      "01/22 09:16:38,👽,after,full,1,5,7,2,2,7\n",
      "01/22 09:16:38,💀,before,full,8,5,8,2,2,5\n"
     ]
    }
   ],
   "source": [
    "!head automation/_output/log_rests.csv"
   ]
  },
  {
   "cell_type": "code",
   "execution_count": null,
   "metadata": {},
   "outputs": [],
   "source": []
  }
 ],
 "metadata": {
  "kernelspec": {
   "display_name": "doa",
   "language": "python",
   "name": "python3"
  },
  "language_info": {
   "codemirror_mode": {
    "name": "ipython",
    "version": 3
   },
   "file_extension": ".py",
   "mimetype": "text/x-python",
   "name": "python",
   "nbconvert_exporter": "python",
   "pygments_lexer": "ipython3",
   "version": "3.9.16"
  },
  "orig_nbformat": 4,
  "vscode": {
   "interpreter": {
    "hash": "6b646fa577b0af43f34eae6415ef36aca8df47e0f93409f9d4a964f073b55a67"
   }
  }
 },
 "nbformat": 4,
 "nbformat_minor": 2
}
